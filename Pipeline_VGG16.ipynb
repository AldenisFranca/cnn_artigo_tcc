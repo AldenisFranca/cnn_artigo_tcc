{
  "nbformat": 4,
  "nbformat_minor": 0,
  "metadata": {
    "colab": {
      "provenance": [],
      "gpuType": "T4"
    },
    "kernelspec": {
      "name": "python3",
      "display_name": "Python 3"
    },
    "language_info": {
      "name": "python"
    },
    "accelerator": "GPU",
    "gpuClass": "standard"
  },
  "cells": [
    {
      "cell_type": "markdown",
      "source": [
        "# Pipeline de análise de imagens de RX normal, pneumonia ou COVID19 visando emissão de laudos / diagnóstico automatizados a serem confirmados pelo profissional de medicina"
      ],
      "metadata": {
        "id": "Xo8gu5RFq2xE"
      }
    },
    {
      "cell_type": "markdown",
      "source": [
        "### Rede Neural VGG16"
      ],
      "metadata": {
        "id": "5yAniZwnq2pn"
      }
    },
    {
      "cell_type": "code",
      "execution_count": null,
      "metadata": {
        "id": "k4kWQW8rUtIO"
      },
      "outputs": [],
      "source": [
        "import glob\n",
        "import shutil\n",
        "import cv2\n",
        "import os\n",
        "from PIL import Image\n",
        "import seaborn as sns\n",
        "import numpy as np\n",
        "from matplotlib import pyplot as plt\n",
        "import tensorflow as tf\n",
        "from tensorflow.keras.layers import *\n",
        "from tensorflow.keras.models import *\n",
        "from tensorflow.keras.preprocessing import *\n",
        "from keras.applications.vgg16 import VGG16\n",
        "from keras import layers\n",
        "# from skimage.feature import local_binary_pattern\n",
        "\n",
        "import warnings\n",
        "# Ignorar warnings\n",
        "warnings.filterwarnings('ignore')"
      ]
    },
    {
      "cell_type": "code",
      "source": [
        "from google.colab import drive\n",
        "drive.mount('/content/drive')"
      ],
      "metadata": {
        "colab": {
          "base_uri": "https://localhost:8080/"
        },
        "id": "p-3cK8h3U9rO",
        "outputId": "0539a877-6d96-4515-a3e1-94aa4ea46d66"
      },
      "execution_count": null,
      "outputs": [
        {
          "output_type": "stream",
          "name": "stdout",
          "text": [
            "Mounted at /content/drive\n"
          ]
        }
      ]
    },
    {
      "cell_type": "code",
      "source": [
        "name_list = glob.glob('/content/drive/MyDrive/PP2/Covid19-Pneumonia-Normal-Chest-X-Ray-Images-Dataset/NORMAL/*')\n",
        "\n",
        "labels = ['NORMAL', 'COVID', 'PNEUMONIA']\n",
        "\n",
        "# Carregando as imagens de treinamento e seus rótulos\n",
        "X= []\n",
        "y = []\n",
        "\n",
        "for name in name_list:\n",
        "  y.append(0)\n",
        "  img = cv2.imread(name)\n",
        "  img = tf.keras.preprocessing.image.img_to_array(img)\n",
        "  img = cv2.resize(img,(100,100))\n",
        "  X.append((img))\n",
        "len(X)"
      ],
      "metadata": {
        "colab": {
          "base_uri": "https://localhost:8080/"
        },
        "id": "7V8Ew04BVSw9",
        "outputId": "8ce55da1-ac44-463f-b56b-26bba9098704"
      },
      "execution_count": null,
      "outputs": [
        {
          "output_type": "execute_result",
          "data": {
            "text/plain": [
              "1802"
            ]
          },
          "metadata": {},
          "execution_count": 12
        }
      ]
    },
    {
      "cell_type": "code",
      "source": [
        "name_list = glob.glob('/content/drive/MyDrive/PP2/Covid19-Pneumonia-Normal-Chest-X-Ray-Images-Dataset/COVID/*')\n",
        "\n",
        "for name in name_list:\n",
        "  y.append(1)\n",
        "  img = cv2.imread(name)\n",
        "  img = tf.keras.preprocessing.image.img_to_array(img)\n",
        "  img = cv2.resize(img,(100,100))\n",
        "  X.append((img))\n",
        "len(X)"
      ],
      "metadata": {
        "colab": {
          "base_uri": "https://localhost:8080/"
        },
        "id": "a39MtjOJU0-b",
        "outputId": "bc52f6d3-d0da-4a33-fa51-4941d6d38e68"
      },
      "execution_count": null,
      "outputs": [
        {
          "output_type": "execute_result",
          "data": {
            "text/plain": [
              "3428"
            ]
          },
          "metadata": {},
          "execution_count": 13
        }
      ]
    },
    {
      "cell_type": "code",
      "source": [
        "name_list = glob.glob('/content/drive/MyDrive/PP2/Covid19-Pneumonia-Normal-Chest-X-Ray-Images-Dataset/PNEUMONIA/*')\n",
        "\n",
        "for name in name_list:\n",
        "  y.append(2)\n",
        "  img = cv2.imread(name)\n",
        "  img = tf.keras.preprocessing.image.img_to_array(img)\n",
        "  img = cv2.resize(img,(100,100))\n",
        "  X.append((img))\n",
        "len(X)"
      ],
      "metadata": {
        "colab": {
          "base_uri": "https://localhost:8080/"
        },
        "id": "f72j_HU8ciUp",
        "outputId": "7be17b9d-efd1-4c15-ada4-60b9be42ad08"
      },
      "execution_count": null,
      "outputs": [
        {
          "output_type": "execute_result",
          "data": {
            "text/plain": [
              "5233"
            ]
          },
          "metadata": {},
          "execution_count": 14
        }
      ]
    },
    {
      "cell_type": "code",
      "source": [
        "X = np.array(X)\n",
        "y = np.array(y).reshape(-1,1)"
      ],
      "metadata": {
        "id": "zj8telY1cErt"
      },
      "execution_count": null,
      "outputs": []
    },
    {
      "cell_type": "code",
      "source": [
        "print(len(X))\n",
        "print(X.shape)\n",
        "print(y.shape)"
      ],
      "metadata": {
        "colab": {
          "base_uri": "https://localhost:8080/"
        },
        "id": "ZxulqrsActmJ",
        "outputId": "a6518176-3f43-4c05-81d0-ff3aceb37a05"
      },
      "execution_count": null,
      "outputs": [
        {
          "output_type": "stream",
          "name": "stdout",
          "text": [
            "5233\n",
            "(5233, 100, 100, 3)\n",
            "(5233, 1)\n"
          ]
        }
      ]
    },
    {
      "cell_type": "code",
      "source": [
        "from sklearn.model_selection import train_test_split\n",
        "# Divide o conjunto de dados em 80% de conjunto de treinamento e 20% de conjunto de teste\n",
        "X_train, X_test, y_train, y_test = train_test_split(X, y, test_size=0.2, random_state=42)\n",
        "\n",
        "# Divida o conjunto de dados de teste em 50% do conjunto de validação e 50% do conjunto de teste\n",
        "X_test, X_val, y_test, y_val = train_test_split(X_test, y_test, test_size=0.2, random_state=42)\n",
        "\n",
        "# Imprime informações sobre o tamanho dos conjuntos de dados\n",
        "print(X_train.shape)\n",
        "print(X_val.shape)\n",
        "print(X_test.shape)"
      ],
      "metadata": {
        "colab": {
          "base_uri": "https://localhost:8080/"
        },
        "id": "gKcv7prvcz8y",
        "outputId": "fb870cb5-3b5d-4755-c4dd-17c7ebf9f3f7"
      },
      "execution_count": null,
      "outputs": [
        {
          "output_type": "stream",
          "name": "stdout",
          "text": [
            "(4186, 100, 100, 3)\n",
            "(210, 100, 100, 3)\n",
            "(837, 100, 100, 3)\n"
          ]
        }
      ]
    },
    {
      "cell_type": "code",
      "source": [
        "X_train = X_train / 255\n",
        "X_test = X_test / 255\n",
        "X_val = X_val / 255"
      ],
      "metadata": {
        "id": "ydC1ZiaddB_4"
      },
      "execution_count": null,
      "outputs": []
    },
    {
      "cell_type": "code",
      "source": [
        "base_model = VGG16(weights='imagenet', include_top=False, input_shape=(100,100, 3))\n",
        "\n",
        "# Congela os pisos do modelo VGG16\n",
        "for layer in base_model.layers:\n",
        "    layer.trainable = False\n",
        "\n",
        "model = Sequential()\n",
        "model.add(base_model)\n",
        "model.add(Flatten())\n",
        "model.add(Dense(1024))\n",
        "model.add(Activation(\"relu\"))\n",
        "model.add(Dense(512))\n",
        "model.add(Activation(\"relu\"))\n",
        "model.add(Dense(1))\n",
        "model.add(Activation(\"sigmoid\"))\n",
        "model.summary()"
      ],
      "metadata": {
        "colab": {
          "base_uri": "https://localhost:8080/"
        },
        "id": "dqm6XjU7dIfw",
        "outputId": "6545f94c-c315-4f7a-c129-ef062532d296"
      },
      "execution_count": null,
      "outputs": [
        {
          "output_type": "stream",
          "name": "stdout",
          "text": [
            "Model: \"sequential_1\"\n",
            "_________________________________________________________________\n",
            " Layer (type)                Output Shape              Param #   \n",
            "=================================================================\n",
            " vgg16 (Functional)          (None, 3, 3, 512)         14714688  \n",
            "                                                                 \n",
            " flatten_1 (Flatten)         (None, 4608)              0         \n",
            "                                                                 \n",
            " dense_3 (Dense)             (None, 1024)              4719616   \n",
            "                                                                 \n",
            " activation_3 (Activation)   (None, 1024)              0         \n",
            "                                                                 \n",
            " dense_4 (Dense)             (None, 512)               524800    \n",
            "                                                                 \n",
            " activation_4 (Activation)   (None, 512)               0         \n",
            "                                                                 \n",
            " dense_5 (Dense)             (None, 1)                 513       \n",
            "                                                                 \n",
            " activation_5 (Activation)   (None, 1)                 0         \n",
            "                                                                 \n",
            "=================================================================\n",
            "Total params: 19,959,617\n",
            "Trainable params: 5,244,929\n",
            "Non-trainable params: 14,714,688\n",
            "_________________________________________________________________\n"
          ]
        }
      ]
    },
    {
      "cell_type": "code",
      "source": [
        "%%time\n",
        "learning_rate = 0.0001 # Taxa de aprendizado inicial\n",
        "decay_steps = 10       # Número de épocas para aplicar o decaimento\n",
        "decay_rate = 1         # Taxa de redução da taxa de aprendizado\n",
        "\n",
        "# Inicializa o escalonador de taxa de aprendizado\n",
        "lr_scheduler = tf.keras.optimizers.schedules.ExponentialDecay(learning_rate, decay_steps, decay_rate)\n",
        "optimizer1 = tf.keras.optimizers.Adam(learning_rate = lr_scheduler)\n",
        "model.compile(optimizer = optimizer1, loss = tf.keras.losses.CategoricalCrossentropy(),metrics =['accuracy'])\n",
        "\n",
        "history = model.fit(X_train, y_train, batch_size = 32, epochs = 5, validation_data = (X_val, y_val))"
      ],
      "metadata": {
        "colab": {
          "base_uri": "https://localhost:8080/"
        },
        "id": "W-j64VXedJIN",
        "outputId": "a68bdee0-3a58-4a48-c25c-4a8ff31799c3"
      },
      "execution_count": null,
      "outputs": [
        {
          "output_type": "stream",
          "name": "stdout",
          "text": [
            "Epoch 1/5\n",
            "131/131 [==============================] - 18s 51ms/step - loss: 0.0000e+00 - accuracy: 0.5645 - val_loss: 0.0000e+00 - val_accuracy: 0.5810\n",
            "Epoch 2/5\n",
            "131/131 [==============================] - 5s 36ms/step - loss: 0.0000e+00 - accuracy: 0.6025 - val_loss: 0.0000e+00 - val_accuracy: 0.6048\n",
            "Epoch 3/5\n",
            "131/131 [==============================] - 5s 35ms/step - loss: 0.0000e+00 - accuracy: 0.6073 - val_loss: 0.0000e+00 - val_accuracy: 0.5952\n",
            "Epoch 4/5\n",
            "131/131 [==============================] - 5s 35ms/step - loss: 0.0000e+00 - accuracy: 0.6094 - val_loss: 0.0000e+00 - val_accuracy: 0.6048\n",
            "Epoch 5/5\n",
            "131/131 [==============================] - 5s 37ms/step - loss: 0.0000e+00 - accuracy: 0.6082 - val_loss: 0.0000e+00 - val_accuracy: 0.6048\n",
            "CPU times: user 13.6 s, sys: 2.22 s, total: 15.8 s\n",
            "Wall time: 42.8 s\n"
          ]
        }
      ]
    },
    {
      "cell_type": "code",
      "source": [
        "from matplotlib import pyplot  as plt\n",
        "\n",
        "# Resumo das acurácias\n",
        "plt.plot(history.history['accuracy'])\n",
        "plt.plot(history.history['val_accuracy'])\n",
        "plt.title('model accuracy')\n",
        "plt.ylabel('accuracy')\n",
        "plt.xlabel('epoch')\n",
        "plt.legend(['train','test'],loc ='upper left')\n",
        "plt.show()\n",
        "\n",
        "# Resumo das perdas\n",
        "plt.plot(history.history['loss'])\n",
        "plt.plot(history.history['val_loss'])\n",
        "plt.title('model loss')\n",
        "plt.ylabel('loss')\n",
        "plt.xlabel('epoch')\n",
        "plt.legend(['train','val'],loc ='upper left')\n",
        "plt.show()"
      ],
      "metadata": {
        "colab": {
          "base_uri": "https://localhost:8080/",
          "height": 927
        },
        "id": "nKwmqSURDtat",
        "outputId": "1485abee-5fc5-434b-e33b-f6fb1bb6320e"
      },
      "execution_count": null,
      "outputs": [
        {
          "output_type": "display_data",
          "data": {
            "text/plain": [
              "<Figure size 640x480 with 1 Axes>"
            ],
            "image/png": "[encoded data removed]"
          },
          "metadata": {}
        },
        {
          "output_type": "display_data",
          "data": {
            "text/plain": [
              "<Figure size 640x480 with 1 Axes>"
            ],
            "image/png": "[encoded data removed]"
          },
          "metadata": {}
        }
      ]
    },
    {
      "cell_type": "code",
      "source": [
        "model.save('model1.h5')"
      ],
      "metadata": {
        "id": "-QGKn0hMDwUg"
      },
      "execution_count": null,
      "outputs": []
    },
    {
      "cell_type": "code",
      "source": [
        "model1 = load_model('model1.h5')"
      ],
      "metadata": {
        "id": "43DakvrgDw3N"
      },
      "execution_count": null,
      "outputs": []
    },
    {
      "cell_type": "code",
      "source": [
        "\n",
        "y_hat = model1.predict(X_test)\n",
        "def predict(y_hat):\n",
        "    y_hat[y_hat >= 0.5] =1\n",
        "    y_hat[y_hat<0.5] =0\n",
        "    return y_hat\n",
        "y_pred = predict(y_hat)\n",
        "from sklearn.metrics import accuracy_score\n",
        "accuracy = accuracy_score(y_test, y_pred)\n",
        "print(accuracy)"
      ],
      "metadata": {
        "id": "2CWMqmmzD2L6",
        "colab": {
          "base_uri": "https://localhost:8080/"
        },
        "outputId": "0f8a74aa-758d-40af-9a8b-28d977f6c08a"
      },
      "execution_count": null,
      "outputs": [
        {
          "output_type": "stream",
          "name": "stdout",
          "text": [
            "27/27 [==============================] - 1s 46ms/step\n",
            "0.6021505376344086\n"
          ]
        }
      ]
    },
    {
      "cell_type": "code",
      "source": [
        "from sklearn.metrics import confusion_matrix, classification_report, accuracy_score\n",
        "labels = ['Covid', 'Normal', 'Pneumonia']\n",
        "report = classification_report(y_test, y_pred, target_names=labels)\n",
        "print(report)\n",
        "accuracy = accuracy_score(y_test, y_pred)\n",
        "\n",
        "print(f\"Accuracy: {accuracy}\")"
      ],
      "metadata": {
        "id": "EEqj6O4SD2Jb",
        "colab": {
          "base_uri": "https://localhost:8080/"
        },
        "outputId": "2ff0f858-acfd-4ee9-d429-8e66a8c09e7b"
      },
      "execution_count": null,
      "outputs": [
        {
          "output_type": "stream",
          "name": "stdout",
          "text": [
            "              precision    recall  f1-score   support\n",
            "\n",
            "       Covid       0.84      0.96      0.89       295\n",
            "      Normal       0.44      0.90      0.59       247\n",
            "   Pneumonia       0.00      0.00      0.00       295\n",
            "\n",
            "    accuracy                           0.60       837\n",
            "   macro avg       0.43      0.62      0.50       837\n",
            "weighted avg       0.43      0.60      0.49       837\n",
            "\n",
            "Accuracy: 0.6021505376344086\n"
          ]
        }
      ]
    },
    {
      "cell_type": "code",
      "source": [
        "cm = confusion_matrix(y_test, y_pred)\n",
        "print(cm)\n",
        "sns.heatmap(cm, annot=True, fmt='d', cmap='Blues')\n",
        "\n",
        "# Configuração do eixo x e eixo y\n",
        "tick_labels = ['Covid', 'Normal', 'Pneumonia']\n",
        "plt.xticks(np.arange(len(tick_labels)) + 0.5, tick_labels)\n",
        "plt.yticks(np.arange(len(tick_labels)) + 0.5, tick_labels)\n",
        "\n",
        "# Nomeia os eixos\n",
        "plt.xlabel('Predicted')\n",
        "plt.ylabel('True')\n",
        "\n",
        "# Mostra o gráfico\n",
        "plt.title('Confusion Matrix')\n",
        "plt.show()"
      ],
      "metadata": {
        "id": "ZESx-xYGD16T",
        "colab": {
          "base_uri": "https://localhost:8080/",
          "height": 524
        },
        "outputId": "9ad53f26-6cdb-43b5-feb5-cf5397c61f11"
      },
      "execution_count": null,
      "outputs": [
        {
          "output_type": "stream",
          "name": "stdout",
          "text": [
            "[[282  13   0]\n",
            " [ 25 222   0]\n",
            " [ 29 266   0]]\n"
          ]
        },
        {
          "output_type": "display_data",
          "data": {
            "text/plain": [
              "<Figure size 640x480 with 2 Axes>"
            ],
            "image/png": "[encoded data removed]"
          },
          "metadata": {}
        }
      ]
    }
  ]
}